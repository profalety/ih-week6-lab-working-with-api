{
 "cells": [
  {
   "cell_type": "markdown",
   "id": "2698c0f1-e5b0-482d-ad64-f64fe2ce912d",
   "metadata": {},
   "source": [
    "# Lab | Working with API"
   ]
  },
  {
   "cell_type": "markdown",
   "id": "004cf30c-6d44-4b99-b2c9-e63f2b5bf23b",
   "metadata": {},
   "source": [
    "**Quote generator**<br>\n",
    "get a phrase from the bible replace some words with random words and add an avatar"
   ]
  },
  {
   "cell_type": "code",
   "execution_count": 54,
   "id": "6582b272-df9c-4b48-b02d-1f6d8262d1af",
   "metadata": {},
   "outputs": [],
   "source": [
    "import pandas as pd\n",
    "import requests\n",
    "from bs4 import BeautifulSoup\n",
    "import random\n",
    "import re\n",
    "from pandas.io.json import json_normalize\n",
    "\n",
    "import matplotlib.pyplot as plt\n"
   ]
  },
  {
   "cell_type": "markdown",
   "id": "a1706cd4-740d-4196-9ed2-93635ddce5c0",
   "metadata": {},
   "source": [
    "## get a random quote from the Bible"
   ]
  },
  {
   "cell_type": "code",
   "execution_count": 2,
   "id": "fe763bc6-a291-4b48-adc8-fa11ad78b2fa",
   "metadata": {},
   "outputs": [],
   "source": [
    "chapter = random.randint(1,6)\n",
    "verse =  random.randint(1,20)\n",
    "res = requests.get(\"https://bible-api.com/joshua\" + str(chapter) + ':' + str(verse))\n"
   ]
  },
  {
   "cell_type": "code",
   "execution_count": 3,
   "id": "99519712-36ce-4c8a-9bd2-d98cb8569a80",
   "metadata": {},
   "outputs": [
    {
     "data": {
      "text/plain": [
       "{'reference': 'Joshua 3:3',\n",
       " 'verses': [{'book_id': 'JOS',\n",
       "   'book_name': 'Joshua',\n",
       "   'chapter': 3,\n",
       "   'verse': 3,\n",
       "   'text': 'and they commanded the people, saying, “When you see the ark of Yahweh your God’s covenant, and the priests the Levites bearing it, then leave your place, and follow it.\\n'}],\n",
       " 'text': 'and they commanded the people, saying, “When you see the ark of Yahweh your God’s covenant, and the priests the Levites bearing it, then leave your place, and follow it.\\n',\n",
       " 'translation_id': 'web',\n",
       " 'translation_name': 'World English Bible',\n",
       " 'translation_note': 'Public Domain'}"
      ]
     },
     "execution_count": 3,
     "metadata": {},
     "output_type": "execute_result"
    }
   ],
   "source": [
    "bible_quote_data = res.json()\n",
    "bible_quote_data"
   ]
  },
  {
   "cell_type": "code",
   "execution_count": 6,
   "id": "8b274944-98a5-44aa-a18a-aeb29783ebb9",
   "metadata": {},
   "outputs": [
    {
     "name": "stderr",
     "output_type": "stream",
     "text": [
      "C:\\Users\\TgMiles\\AppData\\Local\\Temp/ipykernel_20580/3287281196.py:1: FutureWarning: pandas.io.json.json_normalize is deprecated, use pandas.json_normalize instead\n",
      "  bible_quote_data = json_normalize(bible_quote_data)\n"
     ]
    }
   ],
   "source": [
    "bible_quote_data = json_normalize(bible_quote_data)"
   ]
  },
  {
   "cell_type": "code",
   "execution_count": 7,
   "id": "c836b1c2-a4e9-4316-8ecc-51b1fbb5f3d0",
   "metadata": {},
   "outputs": [
    {
     "data": {
      "text/plain": [
       "Index(['reference', 'verses', 'text', 'translation_id', 'translation_name',\n",
       "       'translation_note'],\n",
       "      dtype='object')"
      ]
     },
     "execution_count": 7,
     "metadata": {},
     "output_type": "execute_result"
    }
   ],
   "source": [
    "bible_quote_data.columns"
   ]
  },
  {
   "cell_type": "code",
   "execution_count": 8,
   "id": "9ec3893b-1e2d-42fc-a536-440e09ccc051",
   "metadata": {},
   "outputs": [],
   "source": [
    "bible_quote = bible_quote_data['text'][0]"
   ]
  },
  {
   "cell_type": "code",
   "execution_count": 9,
   "id": "0f4f4745-0132-4c36-9fc5-a62d5c6db8e6",
   "metadata": {},
   "outputs": [
    {
     "data": {
      "text/plain": [
       "'and they commanded the people, saying, “When you see the ark of Yahweh your God’s covenant, and the priests the Levites bearing it, then leave your place, and follow it.\\n'"
      ]
     },
     "execution_count": 9,
     "metadata": {},
     "output_type": "execute_result"
    }
   ],
   "source": [
    "bible_quote"
   ]
  },
  {
   "cell_type": "markdown",
   "id": "1d14da1a-1636-4b9e-afa5-2ab373a588ba",
   "metadata": {},
   "source": [
    "## Get random word"
   ]
  },
  {
   "cell_type": "code",
   "execution_count": 10,
   "id": "b0033311-d295-4a54-9806-8bbb3e4c2fa9",
   "metadata": {},
   "outputs": [],
   "source": [
    "res = requests.get(\"https://random-words-api.vercel.app/word\")"
   ]
  },
  {
   "cell_type": "code",
   "execution_count": 11,
   "id": "449c6f9b-b2a4-47ce-bc5e-54edd1bec2f5",
   "metadata": {},
   "outputs": [
    {
     "data": {
      "text/plain": [
       "[{'word': 'Yeasty',\n",
       "  'definition': 'Full of restless energy or creativity; insubstantial  ',\n",
       "  'pronunciation': 'Yeast'}]"
      ]
     },
     "execution_count": 11,
     "metadata": {},
     "output_type": "execute_result"
    }
   ],
   "source": [
    "word = res.json()\n",
    "word"
   ]
  },
  {
   "cell_type": "code",
   "execution_count": 12,
   "id": "0b14e584-21df-4833-abfe-a22833db4ea0",
   "metadata": {},
   "outputs": [
    {
     "name": "stderr",
     "output_type": "stream",
     "text": [
      "C:\\Users\\TgMiles\\AppData\\Local\\Temp/ipykernel_20580/3552304224.py:1: FutureWarning: pandas.io.json.json_normalize is deprecated, use pandas.json_normalize instead\n",
      "  word = json_normalize(word)\n"
     ]
    }
   ],
   "source": [
    "word = json_normalize(word)"
   ]
  },
  {
   "cell_type": "code",
   "execution_count": 13,
   "id": "1635351e-bfb1-4f6f-93ba-9f6079fe7f39",
   "metadata": {},
   "outputs": [
    {
     "data": {
      "text/plain": [
       "'Yeasty'"
      ]
     },
     "execution_count": 13,
     "metadata": {},
     "output_type": "execute_result"
    }
   ],
   "source": [
    "word['word'][0]"
   ]
  },
  {
   "cell_type": "markdown",
   "id": "7b25b16a-8ad2-4883-9e7d-2f56f0381f92",
   "metadata": {},
   "source": [
    "## Replace noun in bible quote with random word"
   ]
  },
  {
   "cell_type": "code",
   "execution_count": 14,
   "id": "7eb2a832-86c3-4ef1-8c3f-3f8e6a871b08",
   "metadata": {},
   "outputs": [],
   "source": [
    "pattern = '[A-Z][\\w]*'\n",
    "list_of_words = re.findall(pattern, bible_quote)"
   ]
  },
  {
   "cell_type": "code",
   "execution_count": 15,
   "id": "5ac67dea-2cd1-44cb-af4e-76a94534ca90",
   "metadata": {},
   "outputs": [
    {
     "data": {
      "text/plain": [
       "['When', 'Yahweh', 'God', 'Levites']"
      ]
     },
     "execution_count": 15,
     "metadata": {},
     "output_type": "execute_result"
    }
   ],
   "source": [
    "list_of_words"
   ]
  },
  {
   "cell_type": "code",
   "execution_count": 16,
   "id": "db085bba-3e75-4050-b570-397a85385b2a",
   "metadata": {},
   "outputs": [
    {
     "data": {
      "text/plain": [
       "'and they commanded the people, saying, “When you see the ark of Yeasty your God’s covenant, and the priests the Levites bearing it, then leave your place, and follow it.\\n'"
      ]
     },
     "execution_count": 16,
     "metadata": {},
     "output_type": "execute_result"
    }
   ],
   "source": [
    "bible_quote.replace(list_of_words[1], word['word'][0])"
   ]
  },
  {
   "cell_type": "markdown",
   "id": "33960996-cc90-41a8-85e1-859d183283f3",
   "metadata": {},
   "source": [
    "## Get a avatar with the name of the book where the bible quote belongs to"
   ]
  },
  {
   "cell_type": "code",
   "execution_count": 30,
   "id": "cabfa8a7-9b8a-460e-b170-c104a26c43d5",
   "metadata": {},
   "outputs": [
    {
     "data": {
      "text/plain": [
       "'Joshua'"
      ]
     },
     "execution_count": 30,
     "metadata": {},
     "output_type": "execute_result"
    }
   ],
   "source": [
    "bible_book = bible_quote_data['verses'][0][0]['book_name']\n",
    "bible_book"
   ]
  },
  {
   "cell_type": "code",
   "execution_count": 31,
   "id": "1cda500f-054a-4334-92aa-f67dab7c8500",
   "metadata": {},
   "outputs": [],
   "source": [
    "res = requests.get(\"https://avatars.dicebear.com/api/male/' + bible_book + .svg?background=%230000ff\")"
   ]
  },
  {
   "cell_type": "code",
   "execution_count": 39,
   "id": "8b809882-3753-43ec-8b46-e2ff3b5655b6",
   "metadata": {},
   "outputs": [
    {
     "data": {
      "text/plain": [
       "requests.models.Response"
      ]
     },
     "execution_count": 39,
     "metadata": {},
     "output_type": "execute_result"
    }
   ],
   "source": [
    "type(res)"
   ]
  },
  {
   "cell_type": "code",
   "execution_count": null,
   "id": "61c99e81-8330-410b-91d7-4ed076e43de1",
   "metadata": {},
   "outputs": [],
   "source": [
    "res = requests.get(\"https://avatars.dicebear.com/api/male/john.svg?background=%230000ff\")"
   ]
  },
  {
   "cell_type": "code",
   "execution_count": 74,
   "id": "5e48c26d-08ad-4d7b-9784-b81b39b76c5b",
   "metadata": {},
   "outputs": [],
   "source": [
    "avatar = res.text"
   ]
  },
  {
   "cell_type": "code",
   "execution_count": 75,
   "id": "36b84274-e17d-45db-af77-f9621a8be84c",
   "metadata": {},
   "outputs": [
    {
     "data": {
      "text/plain": [
       "'<svg xmlns:dc=\"http://purl.org/dc/elements/1.1/\" xmlns:cc=\"http://creativecommons.org/ns#\" xmlns:rdf=\"http://www.w3.org/1999/02/22-rdf-syntax-ns#\" xmlns:svg=\"http://www.w3.org/2000/svg\" xmlns=\"http://www.w3.org/2000/svg\" viewBox=\"0 0 20 20\" shape-rendering=\"crispEdges\"><metadata><rdf:RDF><cc:Work><dc:format>image/svg+xml</dc:format><dc:type rdf:resource=\"http://purl.org/dc/dcmitype/StillImage\"/><dc:title>Male / 8biticon</dc:title><dc:creator><cc:Agent><dc:title>Plastic Jam</dc:title></cc:Agent></dc:creator><dc:source>https://github.com/dicebear/dicebear</dc:source><cc:license rdf:resource=\"https://github.com/dicebear/dicebear/blob/v4/packages/avatars-male-sprites/LICENSE\"/><dc:contributor><cc:Agent><dc:title>Florian KÃ¶rner</dc:title></cc:Agent></dc:contributor></cc:Work></rdf:RDF></metadata><mask id=\"avatarsRadiusMask\"><rect width=\"20\" height=\"20\" rx=\"0\" ry=\"0\" x=\"0\" y=\"0\" fill=\"#fff\"/></mask><g mask=\"url(#avatarsRadiusMask)\"><rect fill=\"#0000ff\" width=\"20\" height=\"20\" x=\"0\" y=\"0\"/><path d=\"M8 15v1H4v1H3v3h14v-3h-1v-1h-4v-1h3v-1h1v-1h1v-3h1V7h-1V4h-1V3h-1V2H5v1H4v1H3v3H2v3h1v3h1v1h1v1h3z\" fill=\"#F5CFA0\"/><path d=\"M5 15v-1H4v-1H3v-3H2V7h1V4h1V3h1V2h10v1h1v1h1v3h1v3h-1v3h-1v1h-1v1H5z\" fill=\"#FFF\" fill-opacity=\".1\"/><path d=\"M5 9V7h3v2H5zm7-2h3v2h-3V7z\" fill=\"#FFF\"/><path d=\"M7 8v1h1V8H7zm7 0h1v1h-1V8z\" fill=\"#76778b\"/><path d=\"M8 4v1H7v1H5V5h2V4h1zm4 0h1v1h2v1h-2V5h-1V4z\" fill-rule=\"evenodd\" fill=\"#8c7058\"/><path d=\"M9 12v2h2v-2H9z\" fill=\"#dbac98\"/><path d=\"M3 20v-3h1v-1h3v2h6v-2h3v1h1v3H3z\" fill=\"#5cb85c\"/><path d=\"M5 16H4v1H3v3h2v-4zm1 0h1v2h6v-2h1v4H6v-4zm9 0h1v1h1v3h-2v-4z\" fill-rule=\"evenodd\" fill=\"#FFF\" fill-opacity=\".2\"/><path d=\"M4 4h12V3h-1V2H5v1H4v1z\" fill=\"#a7856a\"/></g></svg>'"
      ]
     },
     "execution_count": 75,
     "metadata": {},
     "output_type": "execute_result"
    }
   ],
   "source": [
    "avatar"
   ]
  },
  {
   "cell_type": "markdown",
   "id": "593a894a-cd83-4f60-a59e-cdd8d087b92c",
   "metadata": {},
   "source": [
    "## Result"
   ]
  },
  {
   "cell_type": "code",
   "execution_count": 76,
   "id": "4be3ae76-4108-4d5e-8ec0-95452b85de0a",
   "metadata": {},
   "outputs": [
    {
     "data": {
      "text/plain": [
       "'and they commanded the people, saying, “When you see the ark of Yahweh your God’s covenant, and the priests the Levites bearing it, then leave your place, and follow it.\\n'"
      ]
     },
     "execution_count": 76,
     "metadata": {},
     "output_type": "execute_result"
    }
   ],
   "source": [
    "bible_quote"
   ]
  },
  {
   "cell_type": "code",
   "execution_count": null,
   "id": "de904873-c5e4-4fd2-a593-63bc02564f6c",
   "metadata": {},
   "outputs": [],
   "source": []
  }
 ],
 "metadata": {
  "kernelspec": {
   "display_name": "Python 3 (ipykernel)",
   "language": "python",
   "name": "python3"
  },
  "language_info": {
   "codemirror_mode": {
    "name": "ipython",
    "version": 3
   },
   "file_extension": ".py",
   "mimetype": "text/x-python",
   "name": "python",
   "nbconvert_exporter": "python",
   "pygments_lexer": "ipython3",
   "version": "3.9.7"
  }
 },
 "nbformat": 4,
 "nbformat_minor": 5
}
